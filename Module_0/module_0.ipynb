{
 "cells": [
  {
   "cell_type": "code",
   "execution_count": 72,
   "metadata": {},
   "outputs": [
    {
     "name": "stdout",
     "output_type": "stream",
     "text": [
      "Ваш алгоритм угадывает число в среднем за 5 попыток\n"
     ]
    },
    {
     "data": {
      "text/plain": [
       "5"
      ]
     },
     "execution_count": 72,
     "metadata": {},
     "output_type": "execute_result"
    }
   ],
   "source": [
    "def score_game(game_core):\n",
    "    '''Запускаем игру 1000 раз, чтобы узнать, как быстро игра угадывает число'''\n",
    "    count_ls = []\n",
    "    np.random.seed(1)  # фиксируем RANDOM SEED, чтобы ваш эксперимент был воспроизводим!\n",
    "    random_array = np.random.randint(1,101, size=(1000))\n",
    "    for number in random_array:\n",
    "        count_ls.append(game_core(number))\n",
    "    score = int(np.mean(count_ls))\n",
    "    print(f\"Ваш алгоритм угадывает число в среднем за {score} попыток\")\n",
    "    return(score)\n",
    "\n",
    "import math\n",
    "def game_core_v2(number):\n",
    "    '''Поиск числа от 1 до 100 за наименьшее кол-во попыток'''\n",
    "    count = 1\n",
    "    min_num = 0  # вводим минимальное чилсо диапазона поиска  \n",
    "    max_num = 100  # вводим максимальное чилсо диапазона поиска\n",
    "    average_num = math.ceil((max_num - min_num) / 2) # считаем середину диапозона \n",
    "    \n",
    "    while number != average_num: \n",
    "        count+=1\n",
    "        if number > average_num: \n",
    "            min_num = average_num + 1  # меняем значение минимума\n",
    "        elif number < average_num: \n",
    "            max_num = average_num - 1  # меняем значение максимума\n",
    "        average_num = (math.ceil((max_num - min_num) / 2)) + min_num  # меняем значение среднего числа диапозона\n",
    "        \n",
    "    return(count)\n",
    "\n",
    "score_game(game_core_v2)"
   ]
  },
  {
   "cell_type": "code",
   "execution_count": null,
   "metadata": {},
   "outputs": [],
   "source": []
  }
 ],
 "metadata": {
  "kernelspec": {
   "display_name": "Python 3",
   "language": "python",
   "name": "python3"
  },
  "language_info": {
   "codemirror_mode": {
    "name": "ipython",
    "version": 3
   },
   "file_extension": ".py",
   "mimetype": "text/x-python",
   "name": "python",
   "nbconvert_exporter": "python",
   "pygments_lexer": "ipython3",
   "version": "3.8.5"
  }
 },
 "nbformat": 4,
 "nbformat_minor": 4
}
